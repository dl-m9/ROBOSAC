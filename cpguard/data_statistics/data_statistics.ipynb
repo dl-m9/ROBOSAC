{
 "cells": [
  {
   "cell_type": "code",
   "execution_count": 7,
   "metadata": {},
   "outputs": [
    {
     "name": "stderr",
     "output_type": "stream",
     "text": [
      "Loading data:   0%|          | 0/500 [00:00<?, ?it/s]"
     ]
    },
    {
     "name": "stderr",
     "output_type": "stream",
     "text": [
      "Loading data: 100%|██████████| 500/500 [00:06<00:00, 82.51it/s]\n",
      "/home/user2/miniconda3/envs/coperception/lib/python3.7/site-packages/sklearn/manifold/_t_sne.py:783: FutureWarning: The default initialization in TSNE will change from 'random' to 'pca' in 1.2.\n",
      "  FutureWarning,\n",
      "/home/user2/miniconda3/envs/coperception/lib/python3.7/site-packages/sklearn/manifold/_t_sne.py:793: FutureWarning: The default learning rate in TSNE will change from 200.0 to 'auto' in 1.2.\n",
      "  FutureWarning,\n"
     ]
    },
    {
     "name": "stdout",
     "output_type": "stream",
     "text": [
      "Total number of samples: 905\n",
      "Number of ego samples: 405\n",
      "Number of non-ego samples: 500\n",
      "t-SNE visualization saved as 'tsne_visualization.png'\n"
     ]
    }
   ],
   "source": [
    "\n",
    "\n",
    "import os\n",
    "import pickle\n",
    "import numpy as np\n",
    "from sklearn.manifold import TSNE\n",
    "import matplotlib.pyplot as plt\n",
    "import tqdm\n",
    "\n",
    "# Function to load data from pickle files\n",
    "def load_data(directory):\n",
    "    features = []\n",
    "    labels = []\n",
    "    all_files = [f for f in os.listdir(directory) if f.endswith('.pkl')]\n",
    "    selected_files = np.random.choice(all_files, min(500, len(all_files)), replace=False)\n",
    "    \n",
    "    for filename in tqdm.tqdm(selected_files, desc=\"Loading data\"):\n",
    "        with open(os.path.join(directory, filename), 'rb') as f:\n",
    "            data = pickle.load(f)\n",
    "            for agent_id, (feature_map, agent_type) in data.items():\n",
    "                if not agent_type == 0: \n",
    "                    # Average across spatial dimensions to get a 256-dimensional vector\n",
    "                    avg_feature = feature_map.mean(dim=(1, 2)).cpu().numpy()\n",
    "                    features.append(avg_feature)\n",
    "                    labels.append(agent_type if type(agent_type) == int else 0)\n",
    "    \n",
    "    return np.array(features), np.array(labels)\n",
    "\n",
    "# Load data\n",
    "data_dir = '/data2/user2/senkang/CP-GuardBench/CP-GuardBench_RawData/generated/'\n",
    "features, labels = load_data(data_dir)\n",
    "\n",
    "# Perform t-SNE\n",
    "tsne = TSNE(n_components=2, random_state=42)\n",
    "tsne_results = tsne.fit_transform(features)\n",
    "\n",
    "# Visualize t-SNE results\n",
    "plt.figure(figsize=(10, 8))\n",
    "scatter = plt.scatter(tsne_results[:, 0], tsne_results[:, 1], c=labels, cmap='viridis')\n",
    "plt.colorbar(scatter)\n",
    "plt.title('t-SNE visualization of feature maps')\n",
    "plt.xlabel('t-SNE feature 1')\n",
    "plt.ylabel('t-SNE feature 2')\n",
    "plt.savefig('tsne_visualization.png')\n",
    "plt.close()\n",
    "\n",
    "print(f\"Total number of samples: {len(features)}\")\n",
    "print(f\"Number of ego samples: {sum(labels)}\")\n",
    "print(f\"Number of non-ego samples: {len(labels) - sum(labels)}\")\n",
    "print(\"t-SNE visualization saved as 'tsne_visualization.png'\")\n",
    "\n"
   ]
  },
  {
   "cell_type": "code",
   "execution_count": 54,
   "metadata": {},
   "outputs": [
    {
     "name": "stderr",
     "output_type": "stream",
     "text": [
      "100%|██████████| 2139/2139 [00:02<00:00, 853.27it/s] "
     ]
    },
    {
     "name": "stdout",
     "output_type": "stream",
     "text": [
      "Total number of items across all pickle files: 1800\n"
     ]
    },
    {
     "name": "stderr",
     "output_type": "stream",
     "text": [
      "\n"
     ]
    }
   ],
   "source": [
    "# Count the total number of items\n",
    "total_items = 0\n",
    "data_dir = '/data2/user2/senkang/CP-GuardBench/CP-GuardBench_RawData/test/'\n",
    "import tqdm\n",
    "import os\n",
    "import pickle\n",
    "\n",
    "for filename in tqdm.tqdm(os.listdir(data_dir)):\n",
    "    if filename.endswith('.pkl'):\n",
    "        with open(os.path.join(data_dir, filename), 'rb') as f:\n",
    "            data = pickle.load(f)\n",
    "            total_items += len(data)\n",
    "\n",
    "print(f\"Total number of items across all pickle files: {total_items}\")\n"
   ]
  },
  {
   "cell_type": "code",
   "execution_count": 49,
   "metadata": {},
   "outputs": [
    {
     "name": "stdout",
     "output_type": "stream",
     "text": [
      "Using device: cuda:4\n"
     ]
    },
    {
     "name": "stderr",
     "output_type": "stream",
     "text": [
      "Processing files:   0%|          | 0/49275 [00:00<?, ?it/s]"
     ]
    },
    {
     "name": "stderr",
     "output_type": "stream",
     "text": [
      "Processing files: 100%|██████████| 49275/49275 [00:46<00:00, 1068.40it/s]\n"
     ]
    },
    {
     "name": "stdout",
     "output_type": "stream",
     "text": [
      "Distribution of number of collaborators\n",
      "3 items: 4.6%\n",
      "4 items: 46.0%\n",
      "5 items: 29.9%\n",
      "6 items: 19.5%\n",
      "Bar plot saved as 'item_distribution.png'\n"
     ]
    }
   ],
   "source": [
    "import os\n",
    "import pickle\n",
    "import matplotlib.pyplot as plt\n",
    "from collections import Counter\n",
    "import tqdm\n",
    "import torch\n",
    "\n",
    "plt.rcParams['font.family'] = 'arial'\n",
    "\n",
    "# Set CUDA device to the third GPU (index 2)\n",
    "device = torch.device(\"cuda:4\" if torch.cuda.is_available() else \"cpu\")\n",
    "print(f\"Using device: {device}\")\n",
    "\n",
    "data_dir = '/data2/user2/senkang/CP-GuardBench/CP-GuardBench_RawData/generated/'\n",
    "item_counts = []\n",
    "\n",
    "for filename in tqdm.tqdm(os.listdir(data_dir), desc=\"Processing files\"):\n",
    "    if filename.endswith('.pkl'):\n",
    "        with open(os.path.join(data_dir, filename), 'rb') as f:\n",
    "            data = pickle.load(f)\n",
    "            item_counts.append(len(data))\n",
    "\n",
    "# Count the occurrences of each number of items\n",
    "count_dict = Counter(item_counts)\n",
    "\n",
    "# Prepare data for plotting\n",
    "numbers = range(3, 7)  # 3 to 6 items\n",
    "counts = [count_dict.get(num, 0) for num in numbers]\n",
    "percentages = [count / len(item_counts) * 100 for count in counts]\n",
    "\n",
    "# Create horizontal bar plot\n",
    "plt.figure(figsize=(7, 3), dpi=300)\n",
    "bars = plt.barh(numbers, percentages, edgecolor='none', color='#03045e')  # Horizontal bars\n",
    "\n",
    "# Add percentage labels to the right of each bar\n",
    "for bar in bars:\n",
    "    width = bar.get_width()\n",
    "    plt.text(width, bar.get_y() + bar.get_height()/2.,\n",
    "             f'{width:.1f}%',\n",
    "             ha='left', va='center', fontsize=8)\n",
    "\n",
    "plt.ylabel('Number of Collaborators', fontsize=8)\n",
    "plt.xlabel('Percentage (%)', fontsize=8)\n",
    "plt.yticks(numbers, fontsize=8)\n",
    "plt.xticks(fontsize=8)\n",
    "\n",
    "# Adjust x-axis limit based on the maximum percentage\n",
    "max_percentage = max(percentages)\n",
    "plt.xlim(0, min(max_percentage * 1.3, 100))  # Set x-axis limit to either 110% of max or 100%, whichever is smaller\n",
    "plt.grid(axis='x', linestyle='--', alpha=0.7)\n",
    "\n",
    "# Save the plot\n",
    "plt.tight_layout()\n",
    "plt.savefig('item_distribution.png', dpi=300, bbox_inches='tight')\n",
    "plt.close()\n",
    "\n",
    "print(\"Distribution of number of collaborators\")\n",
    "for num in numbers:\n",
    "    print(f\"{num} items: {percentages[num-3]:.1f}%\")\n",
    "print(\"Bar plot saved as 'item_distribution.png'\")\n"
   ]
  },
  {
   "cell_type": "code",
   "execution_count": 52,
   "metadata": {},
   "outputs": [
    {
     "name": "stderr",
     "output_type": "stream",
     "text": [
      "Processing files:   0%|          | 0/49275 [00:00<?, ?it/s]"
     ]
    },
    {
     "name": "stderr",
     "output_type": "stream",
     "text": [
      "Processing files: 100%|██████████| 49275/49275 [00:45<00:00, 1086.77it/s]\n"
     ]
    },
    {
     "name": "stdout",
     "output_type": "stream",
     "text": [
      "Average proportion of agent_type==1: 0.18\n",
      "Maximum proportion of agent_type==1: 0.33\n",
      "Minimum proportion of agent_type==1: 0.00\n",
      "Histogram saved as 'agent_type_1_distribution.png'\n"
     ]
    }
   ],
   "source": [
    "# Analyze the proportion of agent_type==1 in each data point\n",
    "import os\n",
    "import pickle\n",
    "import matplotlib.pyplot as plt\n",
    "from collections import Counter\n",
    "import tqdm\n",
    "import torch\n",
    "import numpy as np\n",
    "\n",
    "agent_type_1_proportions = []\n",
    "\n",
    "for filename in tqdm.tqdm(os.listdir(data_dir), desc=\"Processing files\"):\n",
    "    if filename.endswith('.pkl'):\n",
    "        with open(os.path.join(data_dir, filename), 'rb') as f:\n",
    "            data = pickle.load(f)\n",
    "            total_agents = len(data)\n",
    "            type_1_agents = sum(1 for _, (_, agent_type) in data.items() if agent_type == 1)\n",
    "            proportion = type_1_agents / total_agents if total_agents > 0 else 0\n",
    "            agent_type_1_proportions.append(proportion)\n",
    "\n",
    "# Calculate statistics\n",
    "avg_proportion = sum(agent_type_1_proportions) / len(agent_type_1_proportions)\n",
    "max_proportion = max(agent_type_1_proportions)\n",
    "min_proportion = min(agent_type_1_proportions)\n",
    "\n",
    "# Create histogram\n",
    "plt.figure(figsize=(4, 7), dpi=300)\n",
    "counts, bins, _ = plt.hist(agent_type_1_proportions, bins=20, color='#8ecae6')\n",
    "plt.clf()  # Clear the current figure\n",
    "\n",
    "# Calculate percentages\n",
    "total_type_1_agents = sum(counts)\n",
    "percentages = (counts / total_type_1_agents) * 100\n",
    "bars = plt.bar(bins[:-1], percentages, width=np.diff(bins), align=\"edge\", color='#8ecae6')\n",
    "plt.xlabel('Attack Ratio (%)', fontsize=8)\n",
    "plt.ylabel('Percentage (%)', fontsize=8)\n",
    "\n",
    "# Set y-axis to show only numbers\n",
    "plt.yticks(range(0, int(max(percentages)) + 10, 5))\n",
    "\n",
    "# Add grid\n",
    "plt.grid(axis='y', linestyle='--', alpha=0.7)\n",
    "\n",
    "# Add vertical line for average\n",
    "plt.axvline(avg_proportion, color='r', linestyle='dashed', linewidth=1, label=f'Average: {avg_proportion:.2f}')\n",
    "plt.legend()\n",
    "\n",
    "# Add value labels on top of each bar\n",
    "for rect in bars:\n",
    "    height = rect.get_height()\n",
    "    if height > 0:\n",
    "        plt.text(rect.get_x() + rect.get_width()/2., height,\n",
    "                 f'{height:.1f}%',\n",
    "             ha='center', va='bottom', fontsize=8)\n",
    "\n",
    "# Adjust y-axis to show percentages\n",
    "# plt.gca().yaxis.set_major_formatter(plt.FuncFormatter(lambda x, p: f\"{x:.1f}%\"))\n",
    "\n",
    "# Save the plot\n",
    "plt.savefig('agent_type_1_distribution.png', dpi=300, bbox_inches='tight')\n",
    "plt.close()\n",
    "\n",
    "print(f\"Average proportion of agent_type==1: {avg_proportion:.2f}\")\n",
    "print(f\"Maximum proportion of agent_type==1: {max_proportion:.2f}\")\n",
    "print(f\"Minimum proportion of agent_type==1: {min_proportion:.2f}\")\n",
    "print(\"Histogram saved as 'agent_type_1_distribution.png'\")"
   ]
  },
  {
   "cell_type": "code",
   "execution_count": 53,
   "metadata": {},
   "outputs": [
    {
     "name": "stderr",
     "output_type": "stream",
     "text": [
      "Processing files:   0%|          | 0/49275 [00:00<?, ?it/s]"
     ]
    },
    {
     "name": "stderr",
     "output_type": "stream",
     "text": [
      "Processing files: 100%|██████████| 49275/49275 [00:00<00:00, 793232.43it/s]\n"
     ]
    },
    {
     "name": "stdout",
     "output_type": "stream",
     "text": [
      "Distribution of attack types:\n",
      "bim: 20.1%\n",
      "pgd: 19.9%\n",
      "fgsm: 21.0%\n",
      "GN: 20.3%\n",
      "cw-l2: 18.7%\n",
      "Bar plot saved as 'attack_distribution.png'\n"
     ]
    }
   ],
   "source": [
    "import os\n",
    "from collections import Counter\n",
    "import matplotlib.pyplot as plt\n",
    "import tqdm\n",
    "\n",
    "# Define the attack types we're interested in\n",
    "attack_types = ['cw-l2', 'pgd', 'GN', 'bim', 'fgsm']\n",
    "\n",
    "# Initialize a counter for attack types\n",
    "attack_counts = Counter()\n",
    "\n",
    "# Count the occurrences of each attack type\n",
    "for filename in tqdm.tqdm(os.listdir(data_dir), desc=\"Processing files\"):\n",
    "    if filename.endswith('.png'):\n",
    "        for attack in attack_types:\n",
    "            if attack in filename:\n",
    "                attack_counts[attack] += 1\n",
    "                break  # Assume each file only has one attack type\n",
    "\n",
    "# Calculate total number of attacks\n",
    "total_attacks = sum(attack_counts.values())\n",
    "\n",
    "# Calculate percentages\n",
    "attack_percentages = {attack: count / total_attacks * 100 for attack, count in attack_counts.items()}\n",
    "\n",
    "# Print the results\n",
    "print(\"Distribution of attack types:\")\n",
    "for attack, percentage in attack_percentages.items():\n",
    "    print(f\"{attack}: {percentage:.1f}%\")\n",
    "\n",
    "# Define colors for each attack type\n",
    "colors = ['#03045e', '#0077b6', '#00b4d8', '#90e0ef', '#caf0f8']\n",
    "\n",
    "# Create a bar plot\n",
    "plt.figure(figsize=(7, 3), dpi=300)\n",
    "\n",
    "# Add grid\n",
    "plt.grid(axis='y', linestyle='--', alpha=0.7, zorder=0)\n",
    "\n",
    "# Create bar plot on top of the grid\n",
    "bars = plt.bar(range(len(attack_percentages)), attack_percentages.values(), color=colors, width=0.4, zorder=3)\n",
    "\n",
    "plt.ylabel('Percentage (%)', fontsize=8)\n",
    "plt.ylim(0, max(attack_percentages.values()) * 1.7)  # Set y-axis limit based on data with 10% headroom\n",
    "\n",
    "# Remove x-axis ticks and labels\n",
    "plt.xticks([])\n",
    "\n",
    "# Add percentage labels on top of each bar\n",
    "for bar in bars:\n",
    "    height = bar.get_height()\n",
    "    plt.text(bar.get_x() + bar.get_width()/2., height,\n",
    "             f'{height:.1f}%', ha='center', va='bottom', fontsize=8)\n",
    "\n",
    "# Add a legend\n",
    "plt.legend(bars, ['C&W' if key.upper() == 'CW-L2' else key.upper() for key in attack_percentages.keys()], loc='upper right', bbox_to_anchor=(1.25, 1), fontsize=8)\n",
    "\n",
    "# Adjust layout to make it tight\n",
    "plt.tight_layout()\n",
    "\n",
    "# Set tick label font size\n",
    "plt.tick_params(axis='both', which='major', labelsize=8)\n",
    "\n",
    "# Save the plot\n",
    "plt.savefig('attack_distribution.png', bbox_inches='tight')\n",
    "plt.close()\n",
    "\n",
    "print(\"Bar plot saved as 'attack_distribution.png'\")\n"
   ]
  },
  {
   "cell_type": "code",
   "execution_count": null,
   "metadata": {},
   "outputs": [],
   "source": []
  }
 ],
 "metadata": {
  "kernelspec": {
   "display_name": "coperception",
   "language": "python",
   "name": "python3"
  },
  "language_info": {
   "codemirror_mode": {
    "name": "ipython",
    "version": 3
   },
   "file_extension": ".py",
   "mimetype": "text/x-python",
   "name": "python",
   "nbconvert_exporter": "python",
   "pygments_lexer": "ipython3",
   "version": "3.7.12"
  }
 },
 "nbformat": 4,
 "nbformat_minor": 2
}
